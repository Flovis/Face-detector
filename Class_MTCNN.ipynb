{
 "cells": [
  {
   "cell_type": "code",
   "execution_count": 1,
   "metadata": {},
   "outputs": [],
   "source": [
    "import cv2 as cv\n",
    "from mtcnn import MTCNN\n",
    "import os"
   ]
  },
  {
   "cell_type": "code",
   "execution_count": 2,
   "metadata": {},
   "outputs": [],
   "source": [
    "class Facedetector(object):\n",
    "    \n",
    "    def __init__(self, mtcnn):\n",
    "        self.mtcnn = mtcnn\n",
    "        \n",
    "    def _draw(selt, img, persones):\n",
    "        if persones != []:\n",
    "            for person in persones:\n",
    "                bounding_box = person['box']\n",
    "                keypoints = person['keypoints']\n",
    "                confidence = person['confidence']\n",
    "                int(confidence)\n",
    "                \n",
    "                #drwa rectangle\n",
    "                cv.rectangle(img,\n",
    "                          (bounding_box[0], bounding_box[1]),\n",
    "                          (bounding_box[0]+bounding_box[2], bounding_box[1] + bounding_box[3]),\n",
    "                          (0,155,255),\n",
    "                          2)\n",
    "                #draw cirle\n",
    "                cv.circle(img,(keypoints['left_eye']), 1, (255,195,0), 2)\n",
    "                cv.circle(img,(keypoints['right_eye']), 1, (255,195,0), 2)\n",
    "                cv.circle(img,(keypoints['nose']), 1, (255,195,0), 2)\n",
    "                cv.circle(img,(keypoints['mouth_left']), 1, (255,195,0), 2)\n",
    "                cv.circle(img,(keypoints['mouth_right']), 1, (255,195,0), 2)\n",
    "                \n",
    "                #put score\n",
    "                #cv.putText(img, str(confidence),( bounding_box[0], bounding_box[1]),cv.FONT_HERSHEY_SIMPLEX, 1, (255,255,0), 1, cv.LINE_AA)\n",
    "\n",
    "    \n",
    "    def loadImage(self):\n",
    "        img = cv.imread('flovis.jpg')\n",
    "        \n",
    "        persones = self.mtcnn.detect_faces(img)\n",
    "        \n",
    "        self._draw(img, persones)\n",
    "        \n",
    "        cv.imshow('image',img)\n",
    "        cv.waitKey(0)\n",
    "    "
   ]
  },
  {
   "cell_type": "code",
   "execution_count": 3,
   "metadata": {},
   "outputs": [],
   "source": [
    "mtcnn = MTCNN()\n",
    "fd = Facedetector(mtcnn)\n",
    "fd.loadImage()"
   ]
  },
  {
   "cell_type": "code",
   "execution_count": null,
   "metadata": {},
   "outputs": [],
   "source": []
  }
 ],
 "metadata": {
  "kernelspec": {
   "display_name": "Python 3",
   "language": "python",
   "name": "python3"
  },
  "language_info": {
   "codemirror_mode": {
    "name": "ipython",
    "version": 3
   },
   "file_extension": ".py",
   "mimetype": "text/x-python",
   "name": "python",
   "nbconvert_exporter": "python",
   "pygments_lexer": "ipython3",
   "version": "3.7.6"
  }
 },
 "nbformat": 4,
 "nbformat_minor": 4
}
